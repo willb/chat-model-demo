{
 "cells": [
  {
   "cell_type": "code",
   "execution_count": null,
   "metadata": {},
   "outputs": [],
   "source": [
    "requirements = [[\"spacy\", \"2.0.10\"], [\"en-core-web-sm\", \"2.0.0\"]]"
   ]
  },
  {
   "cell_type": "code",
   "execution_count": 2,
   "metadata": {},
   "outputs": [],
   "source": [
    "import spacy\n",
    "english = spacy.load('en')"
   ]
  },
  {
   "cell_type": "code",
   "execution_count": 16,
   "metadata": {},
   "outputs": [],
   "source": [
    "def entities(txt):\n",
    "    doc = english(txt)\n",
    "    return [str(ent) for ent in doc.ents if str(ent).strip() != '']"
   ]
  },
  {
   "cell_type": "code",
   "execution_count": 17,
   "metadata": {},
   "outputs": [
    {
     "data": {
      "text/plain": [
       "['1990s', 'Pavement', 'Stereo', 'Geddy Lee']"
      ]
     },
     "execution_count": 17,
     "metadata": {},
     "output_type": "execute_result"
    }
   ],
   "source": [
    "entities(\"1990s rock band Pavement's song \\\"Stereo\\\" includes the following line:  \\\"What about the voice of Geddy Lee -- how did it get so high?  I wonder if he speaks like an ordinary guy.\\\"\")"
   ]
  },
  {
   "cell_type": "code",
   "execution_count": 18,
   "metadata": {},
   "outputs": [],
   "source": [
    "predictor = entities\n",
    "\n",
    "def validator(txt):\n",
    "    return type(txt) == str"
   ]
  },
  {
   "cell_type": "code",
   "execution_count": 19,
   "metadata": {},
   "outputs": [
    {
     "data": {
      "text/plain": [
       "True"
      ]
     },
     "execution_count": 19,
     "metadata": {},
     "output_type": "execute_result"
    }
   ],
   "source": [
    "validator(\"1990s rock band Pavement's song \\\"Stereo\\\" includes the following line:  \\\"What about the voice of Geddy Lee -- how did it get so high?  I wonder if he speaks like an ordinary guy.\\\"\")"
   ]
  },
  {
   "cell_type": "code",
   "execution_count": 20,
   "metadata": {},
   "outputs": [
    {
     "data": {
      "text/plain": [
       "['1990s', 'Pavement', 'Stereo', 'Geddy Lee']"
      ]
     },
     "execution_count": 20,
     "metadata": {},
     "output_type": "execute_result"
    }
   ],
   "source": [
    "predictor(\"1990s rock band Pavement's song \\\"Stereo\\\" includes the following line:  \\\"What about the voice of Geddy Lee -- how did it get so high?  I wonder if he speaks like an ordinary guy.\\\"\")"
   ]
  }
 ],
 "metadata": {
  "kernelspec": {
   "display_name": "Python 3.6",
   "language": "python",
   "name": "jupyter"
  },
  "language_info": {
   "codemirror_mode": {
    "name": "ipython",
    "version": 3
   },
   "file_extension": ".py",
   "mimetype": "text/x-python",
   "name": "python",
   "nbconvert_exporter": "python",
   "pygments_lexer": "ipython3",
   "version": "3.6.5"
  }
 },
 "nbformat": 4,
 "nbformat_minor": 2
}
